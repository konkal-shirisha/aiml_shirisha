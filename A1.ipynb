{
 "cells": [
  {
   "cell_type": "code",
   "execution_count": 1,
   "id": "713deead-9f76-415a-9165-f55bb954b69b",
   "metadata": {},
   "outputs": [
    {
     "name": "stdout",
     "output_type": "stream",
     "text": [
      "Integer: 10, Type: <class 'int'>\n",
      "Float: 20.5, Type: <class 'float'>\n",
      "String: Hello, World!, Type: <class 'str'>\n",
      "Boolean: True, Type: <class 'bool'>\n"
     ]
    }
   ],
   "source": [
    "#DATA TYPES\n",
    "integer_var = 10\n",
    "float_var = 20.5\n",
    "string_var = \"Hello, World!\"\n",
    "boolean_var = True\n",
    "\n",
    "# Print each variable and its type\n",
    "print(f\"Integer: {integer_var}, Type: {type(integer_var)}\")\n",
    "print(f\"Float: {float_var}, Type: {type(float_var)}\")\n",
    "print(f\"String: {string_var}, Type: {type(string_var)}\")\n",
    "print(f\"Boolean: {boolean_var}, Type: {type(boolean_var)}\")\n"
   ]
  },
  {
   "cell_type": "code",
   "execution_count": null,
   "id": "9581c695-5800-43de-bb2e-1eb6cc548f82",
   "metadata": {},
   "outputs": [],
   "source": []
  }
 ],
 "metadata": {
  "kernelspec": {
   "display_name": "Python [conda env:anaconda3-New folder]",
   "language": "python",
   "name": "conda-env-anaconda3-New_folder-py"
  },
  "language_info": {
   "codemirror_mode": {
    "name": "ipython",
    "version": 3
   },
   "file_extension": ".py",
   "mimetype": "text/x-python",
   "name": "python",
   "nbconvert_exporter": "python",
   "pygments_lexer": "ipython3",
   "version": "3.12.7"
  }
 },
 "nbformat": 4,
 "nbformat_minor": 5
}
