{
 "cells": [
  {
   "cell_type": "code",
   "execution_count": 1,
   "id": "de0d3b08-2ce8-4a96-a5c5-051ff59a61a2",
   "metadata": {},
   "outputs": [
    {
     "name": "stdin",
     "output_type": "stream",
     "text": [
      "Enter marks for subject 1:  98\n",
      "Enter marks for subject 2:  81\n",
      "Enter marks for subject 3:  45\n"
     ]
    },
    {
     "name": "stdout",
     "output_type": "stream",
     "text": [
      "Grade: C\n"
     ]
    }
   ],
   "source": [
    "#input for marks in three subjects\n",
    "subject1 = float(input(\"Enter marks for subject 1: \"))\n",
    "subject2 = float(input(\"Enter marks for subject 2: \"))\n",
    "subject3 = float(input(\"Enter marks for subject 3: \"))\n",
    "\n",
    "average = (subject1 + subject2 + subject3) / 3\n",
    "if average >= 90:\n",
    "    print(\"Grade: A\")\n",
    "elif 80 <= average < 90:\n",
    "    print(\"Grade: B\")\n",
    "elif 70 <= average < 80:\n",
    "    print(\"Grade: C\")\n",
    "else:\n",
    "    print(\"Grade: Fail\")\n"
   ]
  },
  {
   "cell_type": "code",
   "execution_count": null,
   "id": "ab32339d-2f48-45ac-9132-3691514bd569",
   "metadata": {},
   "outputs": [],
   "source": []
  }
 ],
 "metadata": {
  "kernelspec": {
   "display_name": "Python [conda env:anaconda3-New folder]",
   "language": "python",
   "name": "conda-env-anaconda3-New_folder-py"
  },
  "language_info": {
   "codemirror_mode": {
    "name": "ipython",
    "version": 3
   },
   "file_extension": ".py",
   "mimetype": "text/x-python",
   "name": "python",
   "nbconvert_exporter": "python",
   "pygments_lexer": "ipython3",
   "version": "3.12.7"
  }
 },
 "nbformat": 4,
 "nbformat_minor": 5
}
