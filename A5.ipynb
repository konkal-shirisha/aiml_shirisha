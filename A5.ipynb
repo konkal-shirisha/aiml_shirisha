{
 "cells": [
  {
   "cell_type": "code",
   "execution_count": 1,
   "id": "1e20c10c-08b5-4554-87b7-76f95d6b3690",
   "metadata": {},
   "outputs": [
    {
     "name": "stdin",
     "output_type": "stream",
     "text": [
      "Enter a positive integer:  12\n"
     ]
    },
    {
     "name": "stdout",
     "output_type": "stream",
     "text": [
      "Numbers from 1 to 12\n",
      "1\n",
      "2\n",
      "3\n",
      "4\n",
      "5\n",
      "6\n",
      "7\n",
      "8\n",
      "9\n",
      "10\n",
      "11\n",
      "12\n",
      "The sum of all numbers from 1 to 12 is: 78\n"
     ]
    }
   ],
   "source": [
    "# Task 1\n",
    "n = int(input(\"Enter a positive integer: \"))\n",
    "print(\"Numbers from 1 to\", n)\n",
    "for i in range(1, n + 1):\n",
    "    print(i)\n",
    "sum_numbers = 0\n",
    "i = 1\n",
    "while i <= n:\n",
    "    sum_numbers += i\n",
    "    i += 1\n",
    "print(\"The sum of all numbers from 1 to\", n, \"is:\", sum_numbers)\n"
   ]
  },
  {
   "cell_type": "code",
   "execution_count": 3,
   "id": "3c7073ea-0f9d-4e12-b799-491f099c068f",
   "metadata": {},
   "outputs": [
    {
     "name": "stdin",
     "output_type": "stream",
     "text": [
      "Enter a positive integer:  24\n"
     ]
    },
    {
     "name": "stdout",
     "output_type": "stream",
     "text": [
      "The square of 24 is: 576\n"
     ]
    }
   ],
   "source": [
    "# Task 2\n",
    "def calculate_square(n):\n",
    "    return n * n\n",
    "num = int(input(\"Enter a positive integer: \"))\n",
    "square = calculate_square(num)\n",
    "print(\"The square of\", num, \"is:\", square)\n"
   ]
  },
  {
   "cell_type": "code",
   "execution_count": null,
   "id": "3c5fad1a-37b3-4ba5-955b-1f5c60a59ad9",
   "metadata": {},
   "outputs": [],
   "source": []
  }
 ],
 "metadata": {
  "kernelspec": {
   "display_name": "Python [conda env:base] *",
   "language": "python",
   "name": "conda-base-py"
  },
  "language_info": {
   "codemirror_mode": {
    "name": "ipython",
    "version": 3
   },
   "file_extension": ".py",
   "mimetype": "text/x-python",
   "name": "python",
   "nbconvert_exporter": "python",
   "pygments_lexer": "ipython3",
   "version": "3.12.7"
  }
 },
 "nbformat": 4,
 "nbformat_minor": 5
}
