{
 "cells": [
  {
   "cell_type": "code",
   "execution_count": 8,
   "id": "4955ebd2-e53e-4fcf-b951-291f81454e73",
   "metadata": {},
   "outputs": [],
   "source": [
    "import compute"
   ]
  },
  {
   "cell_type": "code",
   "execution_count": 20,
   "id": "393c59d7-1a8d-45ee-a35d-fd0f54b27b33",
   "metadata": {},
   "outputs": [
    {
     "data": {
      "text/plain": [
       "3.5"
      ]
     },
     "execution_count": 20,
     "metadata": {},
     "output_type": "execute_result"
    }
   ],
   "source": [
    "compute.mean_value(2,3,4,5)"
   ]
  },
  {
   "cell_type": "code",
   "execution_count": 22,
   "id": "0b8db672-278e-49ba-9be0-cdc8dd2f33a2",
   "metadata": {},
   "outputs": [
    {
     "data": {
      "text/plain": [
       "120"
      ]
     },
     "execution_count": 22,
     "metadata": {},
     "output_type": "execute_result"
    }
   ],
   "source": [
    "compute.product(2,3,4,5)"
   ]
  },
  {
   "cell_type": "code",
   "execution_count": null,
   "id": "be543050-c602-4a43-8ea4-9b959deedd08",
   "metadata": {},
   "outputs": [],
   "source": []
  },
  {
   "cell_type": "code",
   "execution_count": null,
   "id": "aa24fa7f-3b94-440c-8c71-227c99c320cd",
   "metadata": {},
   "outputs": [],
   "source": []
  }
 ],
 "metadata": {
  "kernelspec": {
   "display_name": "Python [conda env:base] *",
   "language": "python",
   "name": "conda-base-py"
  },
  "language_info": {
   "codemirror_mode": {
    "name": "ipython",
    "version": 3
   },
   "file_extension": ".py",
   "mimetype": "text/x-python",
   "name": "python",
   "nbconvert_exporter": "python",
   "pygments_lexer": "ipython3",
   "version": "3.12.7"
  }
 },
 "nbformat": 4,
 "nbformat_minor": 5
}
