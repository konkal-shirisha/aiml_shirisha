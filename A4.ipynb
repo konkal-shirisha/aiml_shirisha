{
 "cells": [
  {
   "cell_type": "code",
   "execution_count": 1,
   "id": "243cd1f9-10a7-4ff6-8617-659593679af0",
   "metadata": {},
   "outputs": [
    {
     "name": "stdin",
     "output_type": "stream",
     "text": [
      "Enter a positive integer:  24\n"
     ]
    },
    {
     "name": "stdout",
     "output_type": "stream",
     "text": [
      "The sum of all even numbers between 1 and 24 is: 156\n"
     ]
    }
   ],
   "source": [
    "# Function to calculate the sum of all even numbers between 1 and n\n",
    "def sum_of_even_numbers(n):\n",
    "    total_sum = 0\n",
    "    for num in range(1, n + 1):\n",
    "        if num % 2 == 0:\n",
    "            total_sum += num\n",
    "    return total_sum\n",
    "n = int(input(\"Enter a positive integer: \"))\n",
    "sum_even = sum_of_even_numbers(n)\n",
    "print(f\"The sum of all even numbers between 1 and {n} is: {sum_even}\")\n"
   ]
  },
  {
   "cell_type": "code",
   "execution_count": null,
   "id": "64b006ab-ce21-4b8c-bbd0-8426f790b6cb",
   "metadata": {},
   "outputs": [],
   "source": []
  }
 ],
 "metadata": {
  "kernelspec": {
   "display_name": "Python [conda env:anaconda3-New folder]",
   "language": "python",
   "name": "conda-env-anaconda3-New_folder-py"
  },
  "language_info": {
   "codemirror_mode": {
    "name": "ipython",
    "version": 3
   },
   "file_extension": ".py",
   "mimetype": "text/x-python",
   "name": "python",
   "nbconvert_exporter": "python",
   "pygments_lexer": "ipython3",
   "version": "3.12.7"
  }
 },
 "nbformat": 4,
 "nbformat_minor": 5
}
